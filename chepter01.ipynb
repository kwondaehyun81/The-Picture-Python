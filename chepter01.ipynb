{
 "cells": [
  {
   "cell_type": "markdown",
   "metadata": {},
   "source": [
    "# 1. 기본 프로그램"
   ]
  },
  {
   "cell_type": "markdown",
   "metadata": {},
   "source": [
    "목차\n",
    "1) 프로그램 만들기\n",
    "2) 변수\n",
    "3) 문자열\n",
    "4) 서식을 지정한 출력\n",
    "5) 키보드 입력"
   ]
  },
  {
   "cell_type": "markdown",
   "metadata": {},
   "source": [
    "Key Point\n",
    "- 문자 표시\n",
    "- 변수\n",
    "- 문자열 조작"
   ]
  },
  {
   "cell_type": "markdown",
   "metadata": {},
   "source": [
    "### 1) 프로그램 만들기"
   ]
  },
  {
   "cell_type": "code",
   "execution_count": 4,
   "metadata": {},
   "outputs": [
    {
     "name": "stdout",
     "output_type": "stream",
     "text": [
      "Hello\n",
      "World!\n"
     ]
    }
   ],
   "source": [
    "print('Hello')      # print() 함수로 ( ) 안의 문자나 숫자를 출력 해준다.\n",
    "print('World!')     # 문장의 구분은 줄 바꿈으로 한다.\n",
    "\n",
    "# 문자열을 표시한다.\n",
    "# 프로그램 실행 순서는 위에서 아래로.\n",
    "# 보통은 들여쓰기(인덴트)를 하지 않고 행의 맨 처음을 왼쪽으로 붙여서 쓴다."
   ]
  },
  {
   "cell_type": "code",
   "execution_count": 5,
   "metadata": {},
   "outputs": [
    {
     "name": "stdout",
     "output_type": "stream",
     "text": [
      "Hello World!\n"
     ]
    }
   ],
   "source": [
    "print('Hello World!')      \n",
    "    # ' 홀따음표 로 둘러싸인것은 문자열을 나타낸다"
   ]
  },
  {
   "cell_type": "code",
   "execution_count": 6,
   "metadata": {},
   "outputs": [
    {
     "name": "stdout",
     "output_type": "stream",
     "text": [
      "Hello World!\n",
      "Hello World!\n"
     ]
    }
   ],
   "source": [
    "print('Hello', 'World!')    # , 콤마 로 구분해서 여러개의 값을 지정할수 있다      \n",
    "print('Hello', 'World!')    # 출력시에는 값의 구분 문자로 스페이스가 추가된다."
   ]
  },
  {
   "cell_type": "markdown",
   "metadata": {},
   "source": [
    "### 2) 변수"
   ]
  },
  {
   "cell_type": "code",
   "execution_count": 7,
   "metadata": {},
   "outputs": [
    {
     "data": {
      "text/plain": [
       "3"
      ]
     },
     "execution_count": 7,
     "metadata": {},
     "output_type": "execute_result"
    }
   ],
   "source": [
    "a = 2\n",
    "    # a라는 변수에 '2'라는 수치를 넣어 대입한다.\n",
    "    # 수치 자체를 수치리터럴 이라고 한다.\n",
    "    # 변수는 값을 넣기 위한 상자와 같은것\n",
    "    # 변수명은 영숫자와 _ (언더스코어)를 사용 할수 있고\n",
    "    # 앞글자가 숫자는 안되며, 예약어도 사용할수 없다.\n",
    "    # 대소문자는 구분한다.a\n",
    "a = 2\n",
    "a = 3\n",
    "    # 값이 들어있는 변수에 또다른 값을 대입할수 있다.   \n"
   ]
  },
  {
   "cell_type": "code",
   "execution_count": 10,
   "metadata": {},
   "outputs": [
    {
     "name": "stdout",
     "output_type": "stream",
     "text": [
      "변수 a에 변수b를 대입\n",
      "a = 3,b = 3\n"
     ]
    }
   ],
   "source": [
    "a = 2\n",
    "b = 3\n",
    "\n",
    "print('변수 a에 변수b를 대입')\n",
    "\n",
    "a = b\n",
    "print('a = ', a, ',b = ', b, sep='')   .\n",
    "# sep : 구분자 = 영단어 그대로, 분리하여 출력한다. \n",
    "# 다만 분리할 ( 갈라놓을 ) 문자를 지정할 수 있다.  \n",
    "# 이것을 구분자라고 한다."
   ]
  },
  {
   "cell_type": "code",
   "execution_count": 9,
   "metadata": {},
   "outputs": [
    {
     "name": "stdout",
     "output_type": "stream",
     "text": [
      "2 3\n"
     ]
    }
   ],
   "source": [
    "a = 2; b = 3\n",
    "print(a,b)"
   ]
  },
  {
   "cell_type": "code",
   "execution_count": 13,
   "metadata": {},
   "outputs": [
    {
     "data": {
      "text/plain": [
       "'1'"
      ]
     },
     "execution_count": 13,
     "metadata": {},
     "output_type": "execute_result"
    }
   ],
   "source": [
    "a = 1       # 정수 1을 대입\n",
    "a = '1'     # 문자열 1을 대입\n",
    "a"
   ]
  },
  {
   "cell_type": "markdown",
   "metadata": {},
   "source": [
    "- 변수에는 정수나 소수와 같은 수치 외에 문자열도 대입할 수 있다.\n",
    "- 수치가 들어있는 변수에 문자열을 대입할수도 있다.\n",
    "- 수치나 문자와 같은 데이터의 종류를 형 이라고 한다."
   ]
  },
  {
   "cell_type": "code",
   "execution_count": 12,
   "metadata": {},
   "outputs": [
    {
     "name": "stdout",
     "output_type": "stream",
     "text": [
      "2\n"
     ]
    }
   ],
   "source": [
    "a = 2       # 변수 a에 수치 2 (정수형)을 대입한다.\n",
    "print(a)    # 변수 a의 값을 표시 한다."
   ]
  },
  {
   "cell_type": "code",
   "execution_count": 11,
   "metadata": {},
   "outputs": [
    {
     "name": "stdout",
     "output_type": "stream",
     "text": [
      "<class 'int'>\n",
      "<class 'int'>\n",
      "<class 'float'>\n",
      "<class 'str'>\n",
      "<class 'bool'>\n",
      "<class 'list'>\n",
      "<class 'tuple'>\n",
      "<class 'set'>\n"
     ]
    }
   ],
   "source": [
    "a = 1               # 정수형\n",
    "print(type(a))\n",
    "\n",
    "a = 10000000000     # 정수형\n",
    "print(type(a))\n",
    "\n",
    "a = 1.23            # 부동소수점형\n",
    "print(type(a))\n",
    "\n",
    "a = 'Hello World!'  # 문자열형\n",
    "print(type(a))\n",
    "\n",
    "a = True            # 논리(bool)형 : True or False\n",
    "print(type(a))\n",
    "\n",
    "a = [1,2,3]         # 리스트\n",
    "print(type(a))\n",
    "\n",
    "a = (1,2,3)         # 튜플\n",
    "print(type(a))\n",
    "\n",
    "a = {1,2,3}         # set\n",
    "print(type(a))"
   ]
  },
  {
   "cell_type": "markdown",
   "metadata": {},
   "source": [
    "### 3) 문자열"
   ]
  },
  {
   "cell_type": "markdown",
   "metadata": {},
   "source": [
    "- 문자를 나열한 것을 문자열 이라고 한다.\n",
    "- 문자열은 ' ' (홀 따옴표) 또는 \" \" (쌍 따옴표)로 둘러싼다."
   ]
  },
  {
   "cell_type": "code",
   "execution_count": 15,
   "metadata": {},
   "outputs": [
    {
     "name": "stdout",
     "output_type": "stream",
     "text": [
      "Hello\n",
      "ciao\n"
     ]
    }
   ],
   "source": [
    "a = 'Hello'     # 문자열 자체를 문자열리터럴 이라고 한다\n",
    "b = \"ciao\"\n",
    "print(a)\n",
    "print(b)"
   ]
  },
  {
   "cell_type": "markdown",
   "metadata": {},
   "source": [
    "- 문자 안에서 \" \" 를 사용 하고 싶을때는 '  ' 로 문자열 전체를 둘러싼다.\n",
    "- '  ' 를 사용 하고 싶을때는 \"  \" 로 둘러 싼다."
   ]
  },
  {
   "cell_type": "code",
   "execution_count": 16,
   "metadata": {},
   "outputs": [
    {
     "name": "stdout",
     "output_type": "stream",
     "text": [
      "\"파이썬\" 세계에 오신것을 '환영' 합니다\n"
     ]
    }
   ],
   "source": [
    "a = '\"파이썬\"'\n",
    "b = \"세계에 오신것을 '환영' 합니다\"\n",
    "print(a,b)"
   ]
  },
  {
   "cell_type": "markdown",
   "metadata": {},
   "source": [
    "이스케이프 시퀸스\n",
    "\n",
    "- \"  \" 안에서 \" ,  '  ' 안에서 ' 는 그대로 사용할수 없다.\n",
    "- 이런 경우 문자열 앞에 이스케이르 문자로 '\\' 를 붙인다\n",
    "- \\ 를 붙여서 나타내는 특수문자를 이스케이프 시퀀스 라고 하며, 다음과 같은것이 있다."
   ]
  },
  {
   "cell_type": "markdown",
   "metadata": {},
   "source": [
    "![](2023-05-10-07-16-25.png)"
   ]
  },
  {
   "cell_type": "code",
   "execution_count": 17,
   "metadata": {},
   "outputs": [
    {
     "name": "stdout",
     "output_type": "stream",
     "text": [
      "'파이썬의 세계'에 \n",
      " 오신것을 환영합니다.\n"
     ]
    }
   ],
   "source": [
    "print('\\'파이썬의 세계\\'에 \\n 오신것을 환영합니다.')\n",
    "    # ' 를 표시           줄을 바꿔줌"
   ]
  },
  {
   "cell_type": "markdown",
   "metadata": {},
   "source": [
    "- ' 또는  \" 를 3개 연속해서 문자열을 둘러싸면 여러줄의 문자열을 작성 할수 있다."
   ]
  },
  {
   "cell_type": "code",
   "execution_count": 18,
   "metadata": {},
   "outputs": [
    {
     "name": "stdout",
     "output_type": "stream",
     "text": [
      "Hello\n",
      "Ciao\n",
      "Hola \n"
     ]
    }
   ],
   "source": [
    "a = '''Hello\n",
    "Ciao\n",
    "Hola '''\n",
    "print(a)"
   ]
  },
  {
   "cell_type": "markdown",
   "metadata": {},
   "source": [
    "문자열의 연결\n",
    "- 문자열은 + 연산자를 사용하여 연결 할수 있다"
   ]
  },
  {
   "cell_type": "code",
   "execution_count": 2,
   "metadata": {},
   "outputs": [
    {
     "name": "stdout",
     "output_type": "stream",
     "text": [
      "여름방학\n",
      "여름방학\n"
     ]
    }
   ],
   "source": [
    "print('여름'+'방학')    # 문자열을 직접 연결\n",
    "\n",
    "a = '여름'\n",
    "b = '방학'\n",
    "c = a + b               # + 연산자를 쓸때는 사이에 스페이스가 들어가질 않는다\n",
    "print(c)                # 문자열을 변수에 대입하여 연결"
   ]
  },
  {
   "cell_type": "markdown",
   "metadata": {},
   "source": [
    "- 문자열 리테일의 경우는 '+'를 사용하지 않고 나열하기만해도 자동으로 연결 된다.\n",
    "- 단, 이 방법은 변수에 대입한 경우 사용할수 없다"
   ]
  },
  {
   "cell_type": "code",
   "execution_count": 6,
   "metadata": {},
   "outputs": [
    {
     "ename": "SyntaxError",
     "evalue": "invalid syntax. Perhaps you forgot a comma? (1827014468.py, line 4)",
     "output_type": "error",
     "traceback": [
      "\u001b[1;36m  Cell \u001b[1;32mIn[6], line 4\u001b[1;36m\u001b[0m\n\u001b[1;33m    print(a b)\u001b[0m\n\u001b[1;37m          ^\u001b[0m\n\u001b[1;31mSyntaxError\u001b[0m\u001b[1;31m:\u001b[0m invalid syntax. Perhaps you forgot a comma?\n"
     ]
    }
   ],
   "source": [
    "print('여름''방학')     # 정상 출력\n",
    "a = '여름'\n",
    "b = '방학'\n",
    "print(a b)              # 출력 오류"
   ]
  },
  {
   "cell_type": "markdown",
   "metadata": {},
   "source": [
    "문자열의 반복\n",
    "- '*' 연산자를 사용하면 문자열을 지정한 횟수만큼 반족할수 있다"
   ]
  },
  {
   "cell_type": "code",
   "execution_count": 7,
   "metadata": {},
   "outputs": [
    {
     "name": "stdout",
     "output_type": "stream",
     "text": [
      "Hey!Hey!Hey!\n"
     ]
    }
   ],
   "source": [
    "a = 'Hey!'\n",
    "b = a * 3\n",
    "print(b)"
   ]
  },
  {
   "cell_type": "markdown",
   "metadata": {},
   "source": [
    "문자열 안의 문자 참조\n",
    "\n",
    "- [ ] 를 사용하면 문자열 안에서 임의의 문자를 꺼낼수 있다.\n",
    "- [ ] 안에는 0 부터 시작하는 인덱스 번호를 지정한다.\n",
    "- 문자열을 끝(오른쪽)에서부터 세는 경우는 -1 부터 시작한다.\n",
    "\n",
    "![](2023-05-11-07-29-56.png)"
   ]
  },
  {
   "cell_type": "code",
   "execution_count": 9,
   "metadata": {},
   "outputs": [
    {
     "name": "stdout",
     "output_type": "stream",
     "text": [
      "c\n",
      "g\n"
     ]
    }
   ],
   "source": [
    "a = 'package'\n",
    "\n",
    "print(a[2])     # 인덱스 번호 2는 세번째 문자\n",
    "print(a[-2])    # 인덱스 번호 -2는 뒤에서 두번째 문자"
   ]
  },
  {
   "cell_type": "markdown",
   "metadata": {},
   "source": [
    "### 4) 서식을 지정한 출력"
   ]
  },
  {
   "cell_type": "markdown",
   "metadata": {},
   "source": [
    "% 연산자 사용하기\n",
    "\n",
    "- 서식을 지정하여 문자열을 출력하고 싶은 경우, \n",
    "- 초기 파이썬부터 있었던 방법에서는 '%' 를 사용하여 다음과 같이 기술한다."
   ]
  },
  {
   "cell_type": "code",
   "execution_count": 11,
   "metadata": {},
   "outputs": [
    {
     "name": "stdout",
     "output_type": "stream",
     "text": [
      "3\n",
      "3\n",
      "3\n"
     ]
    }
   ],
   "source": [
    "print(3)   # 문자열 3을 출력\n",
    "    \n",
    "    \n",
    "# 수치 3을 서식을 지정하여 표시\n",
    "print( '%d' % 3 )   # %d 는 정수를 표시하는 서식 지정\n",
    "    # 서식과 데이터가 대응\n",
    "    \n",
    "     \n",
    "# 수치를 대입한 변수를 서식을 지정하여 표시\n",
    "a = 3     \n",
    "print( '%d' % a )   # %d 자체는 표시되지 않는다.\n",
    "    # 서식과 변수가 대응"
   ]
  },
  {
   "cell_type": "code",
   "execution_count": null,
   "metadata": {},
   "outputs": [],
   "source": [
    "print('%d 은 %d 보다 크다' %(3,2))\n",
    "    # 서식1, 서식2       정수1,정수2\n",
    "    # 데이터를 튜플로 전달해서 대응\n",
    "\n",
    "print()\n",
    "\n",
    "print('%d - %d 는 %d 입니다' %(3, 2, 3-2))    \n",
    "    # 서식1,서식2,서식3    정수1,정수2,정수3"
   ]
  },
  {
   "cell_type": "markdown",
   "metadata": {},
   "source": [
    "여러가지 서식\n",
    "- 서식 지정은 표시할 데이터의 종류에 따라 다르며, 다음과 같은 서식이 사용 됩니다.\n",
    "\n",
    "![](2023-05-11-07-29-21.png)"
   ]
  },
  {
   "cell_type": "markdown",
   "metadata": {},
   "source": [
    "자릿수\n",
    "- 자릿수를 지정하려면 다음과 같이 한다."
   ]
  },
  {
   "cell_type": "code",
   "execution_count": 1,
   "metadata": {},
   "outputs": [
    {
     "name": "stdout",
     "output_type": "stream",
     "text": [
      "  25\n",
      "25  \n",
      "0025\n",
      "3.140\n"
     ]
    }
   ],
   "source": [
    "# 공백을 포함하여 4문자로 표시(오른쪽 정렬)\n",
    "print('%4d'%25)\n",
    "    # xx25\n",
    "\n",
    "# 공백을 포함하여 4문자로 표시(왼쪽 정렬)\n",
    "print('%-4d'%25)\n",
    "    # 25xx\n",
    "\n",
    "# 0을 사용하여 4문자로 표시\n",
    "print('%04d'%25)\n",
    "    # 0025\n",
    "\n",
    "# 소수점 이하를 3문자로 표시\n",
    "print('%.3f'%3.14)\n",
    "    # 3.140"
   ]
  },
  {
   "cell_type": "markdown",
   "metadata": {},
   "source": [
    "format( ) 메소드\n",
    "- 파이썬은 .format( )과 { }를 사용하여 문자열에 데이터를 심어 넣어 출력할수 있다."
   ]
  },
  {
   "cell_type": "code",
   "execution_count": 4,
   "metadata": {},
   "outputs": [
    {
     "name": "stdout",
     "output_type": "stream",
     "text": [
      "서울은 3위 입니다.\n",
      "서울은 3위 입니다.\n"
     ]
    }
   ],
   "source": [
    "# 인수의 값을 넣어서 표시\n",
    "print('서울은 {}위 입니다.'.format(3))\n",
    "        # 인수 3을{ }안에 심어넣기\n",
    "        \n",
    "\n",
    "# 변수의 값을 넣어서 표시\n",
    "a = 3\n",
    "print('서울은 {}위 입니다.'.format(a))\n",
    "        # 변수 a를 { }안에 심어넣기"
   ]
  },
  {
   "cell_type": "markdown",
   "metadata": {},
   "source": [
    "- 여러 개의 데이터를 표시할때는 다음과 같이 기술함"
   ]
  },
  {
   "cell_type": "code",
   "execution_count": 7,
   "metadata": {},
   "outputs": [
    {
     "name": "stdout",
     "output_type": "stream",
     "text": [
      "서울은 3위 입니다.\n"
     ]
    }
   ],
   "source": [
    "# 변수의 값을 넣어서 표시\n",
    "a = '서울'      # 변수의 내용은 수치든 문자열이든 상관 없음\n",
    "b = 3\n",
    "\n",
    "print('{}은 {}위 입니다.'.format(a,b))\n",
    "        # 변수 a,b를 { }{ }안에 순서대로 넣기"
   ]
  },
  {
   "cell_type": "markdown",
   "metadata": {},
   "source": [
    "- 인수의 순서를 지정할수도 있다."
   ]
  },
  {
   "cell_type": "code",
   "execution_count": 9,
   "metadata": {},
   "outputs": [
    {
     "name": "stdout",
     "output_type": "stream",
     "text": [
      "3위는 서울입니다.\n"
     ]
    }
   ],
   "source": [
    "a = '서울'    \n",
    "b = 3\n",
    "\n",
    "print('{1}위는 {0}입니다.'.format(a,b))\n",
    "    # 변수 a,b를 { }{ } 0부터 시작하는 인덱스 번호로 지정 해서 넣기"
   ]
  },
  {
   "cell_type": "markdown",
   "metadata": {},
   "source": [
    "- 위의 코드를 f '값' 서식을 이용하여 아래와 같이 쓸수 있다"
   ]
  },
  {
   "cell_type": "code",
   "execution_count": 10,
   "metadata": {},
   "outputs": [
    {
     "name": "stdout",
     "output_type": "stream",
     "text": [
      "서울위는 3입니다.\n"
     ]
    }
   ],
   "source": [
    "a = '서울'    \n",
    "b = 3\n",
    "\n",
    "print(f'{a}위는 {b}입니다.')"
   ]
  },
  {
   "cell_type": "markdown",
   "metadata": {},
   "source": [
    "서식 지정 방법\n",
    "\n",
    "-format( ) 을 사용한 벙법에서는 { } 에 대해 {: 서식} 과 같이 기술하면 값을 심어 넣을때의\n",
    "서식을 지정할 수 있다. \n",
    "\n",
    "서식(형)"
   ]
  },
  {
   "cell_type": "code",
   "execution_count": 11,
   "metadata": {},
   "outputs": [
    {
     "name": "stdout",
     "output_type": "stream",
     "text": [
      "3\n"
     ]
    }
   ],
   "source": [
    "# 서식(값의 형)을 지정한다.\n",
    "\n",
    "a = 3\n",
    "print('{:d}'.format(a))\n",
    "    # d는 정수를 표시하는 서식 지정"
   ]
  },
  {
   "cell_type": "markdown",
   "metadata": {},
   "source": [
    "천 단위 구분"
   ]
  },
  {
   "cell_type": "code",
   "execution_count": 13,
   "metadata": {},
   "outputs": [
    {
     "name": "stdout",
     "output_type": "stream",
     "text": [
      "123,456,789\n"
     ]
    }
   ],
   "source": [
    "# 세자리마다 ',(콤마)' 를 붙여서 표시하도록 지정\n",
    "\n",
    "a = 123456789\n",
    "print('{:,}'.format(a))"
   ]
  },
  {
   "cell_type": "code",
   "execution_count": 17,
   "metadata": {},
   "outputs": [
    {
     "name": "stdout",
     "output_type": "stream",
     "text": [
      "  25\n",
      "25  \n",
      " 25 \n"
     ]
    }
   ],
   "source": [
    "# 자릿수와 표시될 위치를 지정\n",
    "print('{:>4}'.format(25))   # 공백을 포함하여 4문자로 표시(오른쪽 정렬)\n",
    "        # xx25 = 4문자\n",
    "        \n",
    "print('{:<4}'.format(25))   # 공백을 포함하여 4문자로 표시(외쪽 정렬)\n",
    "        # 25xx = 4문자\n",
    "\n",
    "print('{:^4}'.format(25))   # 공백을 포함하여 4문자로 표시(가운데 정렬)\n",
    "        # x25x = 4문자"
   ]
  },
  {
   "cell_type": "code",
   "execution_count": 19,
   "metadata": {},
   "outputs": [
    {
     "name": "stdout",
     "output_type": "stream",
     "text": [
      "        10\n",
      "x     3.24\n",
      "----------\n",
      "  32.40000\n"
     ]
    }
   ],
   "source": [
    "a = 10\n",
    "b = 3.24\n",
    "\n",
    "print('{:>10}'.format(a))    \n",
    "        # 공백을 포함하여 10 문자로 표시 오른쪽 정렬\n",
    "print('x{:>9.2f}'.format(b))\n",
    "        # 공백을 포함하여 9개, 실수2자리까지 문자로 실수로 표시 오른쪽 정렬\n",
    "print('-'*10)\n",
    "\n",
    "print('{:>10.5f}'.format(a*b))\n",
    "        # 공백을 포함하여 10개, 실수5자리까지 문자로 실수로 표시 오른쪽 정렬"
   ]
  },
  {
   "cell_type": "markdown",
   "metadata": {},
   "source": [
    "### 5) 키보드 입력\n",
    "\n",
    "문자열을 입력한다\n",
    "\n",
    "- 사용자의 입력을 기다리는 함수로는 input( ) 함수가 있다.\n",
    "- input( )을 사용하면 프로그램 실행중에 키보드로 문자열을 입력할수 있다\n",
    "- 엔터 키를 누를때까지 프로그램은 입력 대기 상태가 된다"
   ]
  },
  {
   "cell_type": "code",
   "execution_count": 22,
   "metadata": {},
   "outputs": [
    {
     "data": {
      "text/plain": [
       "'안녕하세요'"
      ]
     },
     "execution_count": 22,
     "metadata": {},
     "output_type": "execute_result"
    }
   ],
   "source": [
    "name = input()      # 입력된 값을 변수 name에 대입한다\n",
    "name"
   ]
  },
  {
   "cell_type": "code",
   "execution_count": 23,
   "metadata": {},
   "outputs": [
    {
     "name": "stdout",
     "output_type": "stream",
     "text": [
      "안녕하세요? 권대현 씨\n"
     ]
    }
   ],
   "source": [
    "name = input('당신의 이름은? : ')\n",
    "    \n",
    "print('안녕하세요? '+ name +' 씨')"
   ]
  },
  {
   "cell_type": "markdown",
   "metadata": {},
   "source": [
    "표준 출력과 표준 입력\n",
    "\n",
    "- 표준 입력 방법(표준입력)은 기본적으로 키보드로 설정되있다.\n",
    "- input( )으로 받은 입력이 여기에 해당. 표준 출력 방법(표준 출력) 은 디스플레이(화면) 이다.\n",
    "- 또한 표준 오류 출력 이라는것도 있는데 이것은 오류 정보의 표시에 사용 된다.\n",
    "\n",
    "![](2023-05-12-05-56-39.png)\n",
    "\n",
    "- 파이썬에서는 표준 출력과 표준 오류 출력에 값을 쓸 때에 다음과 같이 기술한다."
   ]
  },
  {
   "cell_type": "code",
   "execution_count": 25,
   "metadata": {},
   "outputs": [
    {
     "name": "stdout",
     "output_type": "stream",
     "text": [
      "표준 출력입니다\n"
     ]
    },
    {
     "name": "stderr",
     "output_type": "stream",
     "text": [
      "표준 오류 출력입니다\n"
     ]
    },
    {
     "data": {
      "text/plain": [
       "12"
      ]
     },
     "execution_count": 25,
     "metadata": {},
     "output_type": "execute_result"
    }
   ],
   "source": [
    "import sys      # 맨 처음에 'import sys'를 기술한다.\n",
    "\n",
    "sys.stdout.write('표준 출력입니다\\n')\n",
    "sys.stderr.write('표준 오류 출력입니다\\n')\n",
    "                # \\n 시점에 출력 된다."
   ]
  },
  {
   "cell_type": "markdown",
   "metadata": {},
   "source": [
    "- 표준 입력에서 값을 꺼낼 때는 다음과 같이 기술한다."
   ]
  },
  {
   "cell_type": "code",
   "execution_count": 1,
   "metadata": {},
   "outputs": [],
   "source": [
    "import sys      \n",
    "\n",
    "s1 = sys.stdin.readlines( )\n",
    "    # 표준 입력에서 한 줄을 취득 한다.\n",
    "    # 엔터 키로 입력을 종료한다."
   ]
  },
  {
   "cell_type": "markdown",
   "metadata": {},
   "source": [
    "- 다른 방법으로는 다음과 같은 방법이 있다.\n",
    "- 모두 Ctrl + Z 를 입력하면 입력이 종료된다."
   ]
  },
  {
   "cell_type": "code",
   "execution_count": null,
   "metadata": {},
   "outputs": [],
   "source": [
    "readline( )     # 표준 입력에서 여러줄을 취득하여 리스트로 반환\n",
    "read( )         # 표준 입력에서 여러줄을 취득하여 문자열로 반환"
   ]
  },
  {
   "cell_type": "markdown",
   "metadata": {},
   "source": [
    "### 참고 ) 구분 문자와 줄 바꿈 문자 지정\n",
    "\n",
    "- print( ) 로 여러 개의 값을 지정하면 출력 시에 값의 구분 문자로써 스페이스를 추가하고 줄의 끝에서 줄 바꿈을 한다.\n",
    "- 값의 구분 문자나 줄 바꿈을 변경하고 싶을 때는 각각 'sep', 'end'를 사용하여 다음과 같이 지정한다."
   ]
  },
  {
   "cell_type": "code",
   "execution_count": 2,
   "metadata": {},
   "outputs": [
    {
     "name": "stdout",
     "output_type": "stream",
     "text": [
      "가,나,다 /라\n"
     ]
    }
   ],
   "source": [
    "print('가','나','다',sep=',',end=' /')\n",
    "        # sep = ' ' 구분 문자를 지정. 기본값은 스페이스\n",
    "        # end = ' ' 줄의 끝에 추가하고 싶은 문자를 지정\n",
    "        #           기본 값은 줄 바꿈 문자 (\\n)    \n",
    "            \n",
    "print('라')"
   ]
  },
  {
   "cell_type": "code",
   "execution_count": 6,
   "metadata": {},
   "outputs": [
    {
     "name": "stdout",
     "output_type": "stream",
     "text": [
      "가,나,다\n",
      "라\n"
     ]
    }
   ],
   "source": [
    "print('가','나','다',sep=',',end='\\n')\n",
    "        # sep = ' ' 구분 문자를 지정. 기본값은 스페이스\n",
    "        # end = ' ' 줄의 끝에 추가하고 싶은 문자를 지정\n",
    "        #           기본 값은 줄 바꿈 문자 (\\n)    \n",
    "            \n",
    "print('라')"
   ]
  },
  {
   "cell_type": "markdown",
   "metadata": {},
   "source": [
    "- 이런 옵션에 공백 문자를 지정한 [sep = ' '] (구분 문자 없음), [end = ' '] (줄 바꿈 없음)을 지정할수 있다"
   ]
  },
  {
   "cell_type": "code",
   "execution_count": 7,
   "metadata": {},
   "outputs": [
    {
     "name": "stdout",
     "output_type": "stream",
     "text": [
      "가나다라마마사"
     ]
    }
   ],
   "source": [
    "print('가','나','다',sep='',end='')\n",
    "\n",
    "print('라','마','마','사',sep='',end='')"
   ]
  },
  {
   "cell_type": "code",
   "execution_count": null,
   "metadata": {},
   "outputs": [],
   "source": []
  }
 ],
 "metadata": {
  "kernelspec": {
   "display_name": "Python 3.10.9 ('base')",
   "language": "python",
   "name": "python3"
  },
  "language_info": {
   "codemirror_mode": {
    "name": "ipython",
    "version": 3
   },
   "file_extension": ".py",
   "mimetype": "text/x-python",
   "name": "python",
   "nbconvert_exporter": "python",
   "pygments_lexer": "ipython3",
   "version": "3.10.9"
  },
  "orig_nbformat": 4,
  "vscode": {
   "interpreter": {
    "hash": "57bc2b6ce032b5f0e93daa91901b7ea38a856826ef43aa9e95b6d3999f5310df"
   }
  }
 },
 "nbformat": 4,
 "nbformat_minor": 2
}
