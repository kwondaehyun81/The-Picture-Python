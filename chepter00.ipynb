{
 "cells": [
  {
   "cell_type": "markdown",
   "metadata": {},
   "source": [
    "파이썬 의 특징\n",
    "- 오즈젝트 지향 : 프로그래밍 기능을 그룹화 한후 이를 조합하여 프로그램을 작성\n",
    "- 인터프리터형 언어 : 컴파일(기계어로 일괄적으로 변환)할 필요가 없으며, 기계어로 변환하면서 실행할수 있다\n",
    "- 기술이 쉽다 : 문법이 간결하며 가독성이 좋다.\n",
    "- 오픈소스 : 소스코드가 인터넷에 공개되어 있고 매일 개선되고 확장 된다."
   ]
  },
  {
   "cell_type": "markdown",
   "metadata": {},
   "source": [
    "파이썬 실행 방법\n",
    "- 대화형 인터프리터 : 코드를 한줄씩 입력하여 대화하듯 실행.\n",
    "- 프로그램 파일의 실행 : 프로그램 파일로 저장하여 실생."
   ]
  },
  {
   "cell_type": "markdown",
   "metadata": {},
   "source": [
    "프로그램 작성시의 약속\n",
    "- 기본적으로 반각으로 기술한다\n",
    "- 인코딩은 UTF-8을 이용한다\n",
    "- 대소문자는 구분하여 쓴다\n",
    "- 주석에는 #을 붙인다\n",
    "- 예약어에 주의 한다 예) and, as, assert, break..."
   ]
  },
  {
   "cell_type": "markdown",
   "metadata": {},
   "source": []
  },
  {
   "cell_type": "code",
   "execution_count": null,
   "metadata": {},
   "outputs": [],
   "source": []
  }
 ],
 "metadata": {
  "kernelspec": {
   "display_name": "Python 3.10.9 ('base')",
   "language": "python",
   "name": "python3"
  },
  "language_info": {
   "name": "python",
   "version": "3.10.9"
  },
  "orig_nbformat": 4,
  "vscode": {
   "interpreter": {
    "hash": "57bc2b6ce032b5f0e93daa91901b7ea38a856826ef43aa9e95b6d3999f5310df"
   }
  }
 },
 "nbformat": 4,
 "nbformat_minor": 2
}
